{
  "cells": [
    {
      "attachments": {},
      "cell_type": "markdown",
      "metadata": {
        "colab_type": "text",
        "id": "view-in-github"
      },
      "source": [
        "<a href=\"https://colab.research.google.com/github/vcdemy/20230615-cht/blob/main/20230615_%E4%BA%BA%E8%87%89%E8%BE%A8%E8%AD%98.ipynb\" target=\"_parent\"><img src=\"https://colab.research.google.com/assets/colab-badge.svg\" alt=\"Open In Colab\"/></a>"
      ]
    },
    {
      "attachments": {},
      "cell_type": "markdown",
      "metadata": {
        "id": "B4t9tFS9693z"
      },
      "source": [
        "# 人臉辨識"
      ]
    },
    {
      "attachments": {},
      "cell_type": "markdown",
      "metadata": {
        "id": "QcYN-ecr62XY"
      },
      "source": [
        "## 安裝套件\n",
        "\n",
        "colab 的 runtime type 需要選 GPU, face_recognition 套件的使用才不會有問題。"
      ]
    },
    {
      "cell_type": "code",
      "execution_count": null,
      "metadata": {
        "id": "wUUAU-eA7p7Q"
      },
      "outputs": [],
      "source": [
        "!pip install face_recognition"
      ]
    },
    {
      "cell_type": "code",
      "execution_count": null,
      "metadata": {
        "id": "hXkkyjTf6cLq"
      },
      "outputs": [],
      "source": [
        "!pip install gradio"
      ]
    },
    {
      "attachments": {},
      "cell_type": "markdown",
      "metadata": {
        "id": "Gk1Ohock65SV"
      },
      "source": [
        "## 載入套件"
      ]
    },
    {
      "cell_type": "code",
      "execution_count": null,
      "metadata": {
        "id": "DBhTJTZe7mD-"
      },
      "outputs": [],
      "source": [
        "import face_recognition"
      ]
    },
    {
      "cell_type": "code",
      "execution_count": null,
      "metadata": {
        "id": "Zfbvt-CD6YY1"
      },
      "outputs": [],
      "source": [
        "from PIL import Image\n",
        "import gradio as gr"
      ]
    },
    {
      "cell_type": "code",
      "execution_count": null,
      "metadata": {
        "id": "v8775Ksj7UYu"
      },
      "outputs": [],
      "source": [
        "import glob"
      ]
    },
    {
      "cell_type": "code",
      "execution_count": null,
      "metadata": {
        "id": "l36BKsIgq_HJ"
      },
      "outputs": [],
      "source": [
        "import numpy as np"
      ]
    },
    {
      "attachments": {},
      "cell_type": "markdown",
      "metadata": {
        "id": "q3KdcCP-7HCp"
      },
      "source": [
        "## 蒐集圖片"
      ]
    },
    {
      "cell_type": "code",
      "execution_count": null,
      "metadata": {
        "id": "3CsZ1PKV5Uif"
      },
      "outputs": [],
      "source": [
        "def collect(img_name, image):\n",
        "  image.save(img_name+'.jpg')\n",
        "  return image.convert(\"L\")"
      ]
    },
    {
      "cell_type": "code",
      "execution_count": null,
      "metadata": {
        "id": "ckPHlzVT6Xn8"
      },
      "outputs": [],
      "source": [
        "gr.Interface(collect, ['text','pil'], \"pil\").launch(share=True)"
      ]
    },
    {
      "cell_type": "code",
      "execution_count": null,
      "metadata": {
        "id": "JCH0sqWy7W4-"
      },
      "outputs": [],
      "source": [
        "filenames = glob.glob(\"*.jpg\")"
      ]
    },
    {
      "cell_type": "code",
      "execution_count": null,
      "metadata": {
        "id": "nd2x1jZL7Zin"
      },
      "outputs": [],
      "source": [
        "filenames"
      ]
    },
    {
      "attachments": {},
      "cell_type": "markdown",
      "metadata": {
        "id": "EPDCeVTC7B6Z"
      },
      "source": [
        "## 讀取人臉特徵"
      ]
    },
    {
      "cell_type": "code",
      "execution_count": null,
      "metadata": {
        "id": "wX7dNRxj6sXE"
      },
      "outputs": [],
      "source": [
        "known_faces = []\n",
        "for filename in filenames:\n",
        "  face = face_recognition.load_image_file(filename)\n",
        "  face_encoding = face_recognition.face_encodings(face)[0]\n",
        "  known_faces.append(face_encoding)"
      ]
    },
    {
      "attachments": {},
      "cell_type": "markdown",
      "metadata": {
        "id": "BukNhqU78FJR"
      },
      "source": [
        "## 進行人臉辨識"
      ]
    },
    {
      "cell_type": "code",
      "execution_count": null,
      "metadata": {
        "id": "3zDXpdWx8EuF"
      },
      "outputs": [],
      "source": [
        "def who(image):\n",
        "  encoding = face_recognition.face_encodings(image)[0]\n",
        "  x = face_recognition.face_distance(known_faces, encoding)\n",
        "  filename = filenames[np.argmin(x)]\n",
        "  return Image.open(filename)"
      ]
    },
    {
      "cell_type": "code",
      "execution_count": null,
      "metadata": {
        "id": "J-JaLWAF8haA"
      },
      "outputs": [],
      "source": [
        "gr.Interface(who, \"image\", \"pil\").launch(share=True)"
      ]
    }
  ],
  "metadata": {
    "accelerator": "GPU",
    "colab": {
      "authorship_tag": "ABX9TyM0nCRxVYYAbwNKhUNCkwn1",
      "include_colab_link": true,
      "private_outputs": true,
      "provenance": []
    },
    "gpuClass": "standard",
    "kernelspec": {
      "display_name": "Python 3",
      "name": "python3"
    },
    "language_info": {
      "name": "python"
    }
  },
  "nbformat": 4,
  "nbformat_minor": 0
}
