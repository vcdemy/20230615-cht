{
  "cells": [
    {
      "attachments": {},
      "cell_type": "markdown",
      "metadata": {
        "colab_type": "text",
        "id": "view-in-github"
      },
      "source": [
        "<a href=\"https://colab.research.google.com/github/vcdemy/20230615-cht/blob/main/20230615_%E5%9F%BA%E7%A4%8E%E5%BD%B1%E5%83%8F%E8%99%95%E7%90%86(PIL).ipynb\" target=\"_parent\"><img src=\"https://colab.research.google.com/assets/colab-badge.svg\" alt=\"Open In Colab\"/></a>"
      ]
    },
    {
      "attachments": {},
      "cell_type": "markdown",
      "metadata": {
        "id": "L9dfxywZ3K5E"
      },
      "source": [
        "# 基礎影像處理"
      ]
    },
    {
      "attachments": {},
      "cell_type": "markdown",
      "metadata": {
        "id": "SZjmCd0C7EO5"
      },
      "source": [
        "## 載入模組"
      ]
    },
    {
      "cell_type": "code",
      "execution_count": null,
      "metadata": {
        "id": "fNIHKvXQ6JEc"
      },
      "outputs": [],
      "source": [
        "from PIL import Image"
      ]
    },
    {
      "attachments": {},
      "cell_type": "markdown",
      "metadata": {
        "id": "snnDU7fd7Hj-"
      },
      "source": [
        "## 讀取圖片"
      ]
    },
    {
      "cell_type": "code",
      "execution_count": null,
      "metadata": {
        "id": "esInBTkb7DLM"
      },
      "outputs": [],
      "source": [
        "img = Image.open('lin.jpg')"
      ]
    },
    {
      "cell_type": "code",
      "execution_count": null,
      "metadata": {
        "id": "FZoCe_u67S2d"
      },
      "outputs": [],
      "source": [
        "img"
      ]
    },
    {
      "attachments": {},
      "cell_type": "markdown",
      "metadata": {
        "id": "ubCkMnbW7eHq"
      },
      "source": [
        "## 轉換成單色圖片"
      ]
    },
    {
      "cell_type": "code",
      "execution_count": null,
      "metadata": {
        "id": "wihfUD527T3l"
      },
      "outputs": [],
      "source": [
        "img_gray = img.convert('L')"
      ]
    },
    {
      "cell_type": "code",
      "execution_count": null,
      "metadata": {
        "id": "I5x6uXp07gcF"
      },
      "outputs": [],
      "source": [
        "img_gray"
      ]
    },
    {
      "attachments": {},
      "cell_type": "markdown",
      "metadata": {
        "id": "oa4DHCw-7jVp"
      },
      "source": [
        "## 儲存圖片檔"
      ]
    },
    {
      "cell_type": "code",
      "execution_count": null,
      "metadata": {
        "id": "R_QolHXe7hcs"
      },
      "outputs": [],
      "source": [
        "img_gray.save('lin_gray.jpg')"
      ]
    },
    {
      "attachments": {},
      "cell_type": "markdown",
      "metadata": {
        "id": "RAduEBnn7uQM"
      },
      "source": [
        "## 在圖片上畫框框"
      ]
    },
    {
      "cell_type": "code",
      "execution_count": null,
      "metadata": {
        "id": "RnYbLm9R7qok"
      },
      "outputs": [],
      "source": [
        "from PIL import ImageDraw"
      ]
    },
    {
      "cell_type": "code",
      "execution_count": null,
      "metadata": {
        "id": "H-SnGTpv73TV"
      },
      "outputs": [],
      "source": [
        "draw = ImageDraw.Draw(img)"
      ]
    },
    {
      "cell_type": "code",
      "execution_count": null,
      "metadata": {
        "id": "mn_heXQ0767d"
      },
      "outputs": [],
      "source": [
        "draw.rectangle((10, 10, 100, 100), outline='red', width=5)"
      ]
    },
    {
      "cell_type": "code",
      "execution_count": null,
      "metadata": {
        "id": "oCzNljc08Gd1"
      },
      "outputs": [],
      "source": [
        "img"
      ]
    }
  ],
  "metadata": {
    "colab": {
      "authorship_tag": "ABX9TyOD2WZ9EiPu3BGhaHD3gv3B",
      "include_colab_link": true,
      "provenance": []
    },
    "kernelspec": {
      "display_name": "Python 3",
      "name": "python3"
    },
    "language_info": {
      "name": "python"
    }
  },
  "nbformat": 4,
  "nbformat_minor": 0
}
