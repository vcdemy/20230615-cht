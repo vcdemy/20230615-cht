{
  "cells": [
    {
      "attachments": {},
      "cell_type": "markdown",
      "metadata": {
        "colab_type": "text",
        "id": "view-in-github"
      },
      "source": [
        "<a href=\"https://colab.research.google.com/github/vcdemy/20230615-cht/blob/main/20230615_%E4%BA%BA%E8%87%89%E7%89%B9%E5%BE%B5%E5%81%B5%E6%B8%AC(PIL).ipynb\" target=\"_parent\"><img src=\"https://colab.research.google.com/assets/colab-badge.svg\" alt=\"Open In Colab\"/></a>"
      ]
    },
    {
      "attachments": {},
      "cell_type": "markdown",
      "metadata": {
        "id": "39XqNIaX1iXd"
      },
      "source": [
        "# 人臉特徵偵測"
      ]
    },
    {
      "attachments": {},
      "cell_type": "markdown",
      "metadata": {
        "id": "bBJ5f8qO2Q2v"
      },
      "source": [
        "## 載入套件"
      ]
    },
    {
      "cell_type": "code",
      "execution_count": null,
      "metadata": {
        "id": "LbijqPh81sRi"
      },
      "outputs": [],
      "source": [
        "from PIL import Image, ImageDraw\n",
        "import face_recognition"
      ]
    },
    {
      "attachments": {},
      "cell_type": "markdown",
      "metadata": {
        "id": "o_VZMvZo2Wb5"
      },
      "source": [
        "## 讀取圖形"
      ]
    },
    {
      "cell_type": "code",
      "execution_count": null,
      "metadata": {
        "id": "1HC-oY612aE_"
      },
      "outputs": [],
      "source": [
        "image = face_recognition.load_image_file(\"lin.jpg\")"
      ]
    },
    {
      "attachments": {},
      "cell_type": "markdown",
      "metadata": {
        "id": "gDEykbtV2crc"
      },
      "source": [
        "## 讀取人臉特徵"
      ]
    },
    {
      "cell_type": "code",
      "execution_count": null,
      "metadata": {
        "id": "fd-GFubO2hcS"
      },
      "outputs": [],
      "source": [
        "face_landmarks_list = face_recognition.face_landmarks(image)"
      ]
    },
    {
      "cell_type": "code",
      "execution_count": null,
      "metadata": {
        "id": "bVFeeO8q2sXN"
      },
      "outputs": [],
      "source": [
        "number_of_faces = len(face_landmarks_list)"
      ]
    },
    {
      "cell_type": "code",
      "execution_count": null,
      "metadata": {
        "id": "nmj1CTdC2s_5"
      },
      "outputs": [],
      "source": [
        "number_of_faces"
      ]
    },
    {
      "attachments": {},
      "cell_type": "markdown",
      "metadata": {
        "id": "kOayPlw32J_h"
      },
      "source": [
        "# 畫出人臉特徵"
      ]
    },
    {
      "cell_type": "code",
      "execution_count": null,
      "metadata": {
        "id": "2ab5T3M12xEr"
      },
      "outputs": [],
      "source": [
        "img = Image.fromarray(image)"
      ]
    },
    {
      "cell_type": "code",
      "execution_count": null,
      "metadata": {
        "id": "BzoqYVx22zSo"
      },
      "outputs": [],
      "source": [
        "draw = ImageDraw.Draw(img)"
      ]
    },
    {
      "cell_type": "code",
      "execution_count": null,
      "metadata": {
        "id": "0UqJzjIG2I3l"
      },
      "outputs": [],
      "source": [
        "for face_landmarks in face_landmarks_list:\n",
        "    for name, list_of_points in face_landmarks.items():\n",
        "        draw.line(list_of_points, fill=\"red\", width=2)"
      ]
    },
    {
      "cell_type": "code",
      "execution_count": null,
      "metadata": {
        "id": "Ln0-94mn225k"
      },
      "outputs": [],
      "source": [
        "img"
      ]
    }
  ],
  "metadata": {
    "colab": {
      "authorship_tag": "ABX9TyN1mJi07cXPfOkPXlxAnXZI",
      "include_colab_link": true,
      "provenance": []
    },
    "kernelspec": {
      "display_name": "Python 3",
      "name": "python3"
    },
    "language_info": {
      "name": "python"
    }
  },
  "nbformat": 4,
  "nbformat_minor": 0
}
